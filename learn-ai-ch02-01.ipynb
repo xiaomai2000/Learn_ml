{
 "cells": [
  {
   "cell_type": "code",
   "execution_count": 1,
   "metadata": {},
   "outputs": [],
   "source": [
    "import numpy as np\n"
   ]
  },
  {
   "cell_type": "code",
   "execution_count": 2,
   "metadata": {},
   "outputs": [],
   "source": [
    "def target_function(w,b):\n",
    "    x = 2*w + 3*b\n",
    "    y = 2*b + 1\n",
    "    z = x * y\n",
    "    return x,y,z\n",
    "\n",
    "def single_variable(w,b,t):\n",
    "    max_times = 100\n",
    "    print(\"\\nsingle variable: b ----\")\n",
    "    error = 1e-5\n",
    "    while(max_times>0):\n",
    "        x,y,z = target_function(w,b)\n",
    "        delta_z = z - t\n",
    "        print(\"w=%f, b=%f, z=%f, delta_z=%f\" %(w,b,z,delta_z))\n",
    "        if abs(delta_z) < error:\n",
    "            break\n",
    "        delta_b = delta_z / 63\n",
    "        print(\"                                 Keep reducing b: delta_b=%f\"%delta_b)\n",
    "        b = b - delta_b\n",
    "        max_times = max_times -1\n",
    "    \n",
    "    print(\"done\")\n",
    "    print(\"final b=%f\"%b)\n",
    "              \n"
   ]
  },
  {
   "cell_type": "code",
   "execution_count": 3,
   "metadata": {},
   "outputs": [],
   "source": [
    "def single_variable_new(w,b,t):\n",
    "    print(\"\\nsingle variable new: b -----\")\n",
    "    error = 1e-5\n",
    "    while(True):\n",
    "        x,y,z = target_function(w,b)\n",
    "        delta_z = z - t\n",
    "        print(\"w=%f, b=%f, z=%f, delta_z=%f\"%(w,b,z,delta_z))\n",
    "        if abs(delta_z) < error:\n",
    "            break\n",
    "        factor_b = 2*x + 3*y\n",
    "        delta_b = delta_z/factor_b\n",
    "        print(\"factor_b=%f, delta_b=%f\"%(factor_b, delta_b))\n",
    "        b = b - delta_b\n",
    "    \n",
    "    print(\"done!\")\n",
    "    print(\"final b=%f\"%b)"
   ]
  },
  {
   "cell_type": "code",
   "execution_count": 4,
   "metadata": {},
   "outputs": [],
   "source": [
    "def double_variable(w,b,t):\n",
    "    print(\"%double variable: w, b -----\")\n",
    "    error = 1e-5\n",
    "    while(True):\n",
    "        x,y,z = target_function(w,b)\n",
    "        delta_z = z - t\n",
    "        print(\"w=%f, b=%f, z=%f, delta_z=%f\"%(w,b,z,delta_z))\n",
    "        if abs(delta_z) < error:\n",
    "            break\n",
    "        delta_b = delta_z/63/2\n",
    "        delta_w = delta_z/18/2\n",
    "        print(\"delta_b=%f, delta_w=%f\"%(delta_b, delta_w))\n",
    "        b = b - delta_b\n",
    "        w = w - delta_w\n",
    "    \n",
    "    print(\"done!\")\n",
    "    print(\"final b=%f\"%b)\n",
    "    print(\"final w=%f\"%w)"
   ]
  },
  {
   "cell_type": "code",
   "execution_count": 5,
   "metadata": {},
   "outputs": [],
   "source": [
    "def double_variable_new(w, b, t):\n",
    "    print(\"\\ndouble variable new: w, b ----\")\n",
    "    error = 1e-5\n",
    "    while(True):\n",
    "        x,y,z = target_function(w,b)\n",
    "        delta_z = z-t\n",
    "        print(\"w=%f, b=%f, z=%f, delta_z = %f\"%(w,b,z,delta_z))\n",
    "        if abs(delta_z) < error:\n",
    "            break\n",
    "            \n",
    "        factor_b, factor_w = calculate_wb_factor(x,y)\n",
    "        delta_b = delta_z/factor_b/2\n",
    "        delta_w = delta_z/factor_w/2\n",
    "        print(\"factor_b=%f, factor_w=%f, delta_b=%f, delta_w=%f\"%(factor_b, factor_w, delta_b, delta_w))\n",
    "        b = b - delta_b\n",
    "        w = w - delta_w\n",
    "    print(\"done\")\n",
    "    print(\"final b=%f\"%b)\n",
    "    print(\"final w=%f\"%w)\n",
    "    return factor_b, factor_w\n",
    "\n",
    "\n"
   ]
  },
  {
   "cell_type": "code",
   "execution_count": 6,
   "metadata": {},
   "outputs": [],
   "source": [
    "def calculate_wb_factor(x,y):\n",
    "    factor_b = 2*x + 3*y\n",
    "    factor_w = 2*y\n",
    "    return factor_b, factor_w\n",
    "\n"
   ]
  },
  {
   "cell_type": "code",
   "execution_count": 7,
   "metadata": {},
   "outputs": [
    {
     "name": "stdout",
     "output_type": "stream",
     "text": [
      "\n",
      "double variable new: w, b ----\n",
      "w=3.000000, b=6.000000, z=312.000000, delta_z = 162.000000\n",
      "factor_b=87.000000, factor_w=26.000000, delta_b=0.931034, delta_w=3.115385\n",
      "w=-0.115385, b=5.068966, z=166.803073, delta_z = 16.803073\n",
      "factor_b=63.366048, factor_w=22.275862, delta_b=0.132587, delta_w=0.377159\n",
      "w=-0.492543, b=4.936378, z=150.305502, delta_z = 0.305502\n",
      "factor_b=60.266364, factor_w=21.745513, delta_b=0.002535, delta_w=0.007024\n",
      "w=-0.499568, b=4.933844, z=150.000110, delta_z = 0.000110\n",
      "factor_b=60.207851, factor_w=21.735374, delta_b=0.000001, delta_w=0.000003\n",
      "w=-0.499570, b=4.933843, z=150.000000, delta_z = 0.000000\n",
      "done\n",
      "final b=4.933843\n",
      "final w=-0.499570\n"
     ]
    }
   ],
   "source": [
    "if __name__ == '__main__':\n",
    "    w = 3\n",
    "    b = 6\n",
    "    t = 150\n",
    "    #single_variable(w,b,t)\n",
    "    #single_variable_new(w,b,t)\n",
    "    #double_variable(w,b,t)\n",
    "    double_variable_new(w,b,t)\n",
    "    "
   ]
  },
  {
   "cell_type": "code",
   "execution_count": null,
   "metadata": {},
   "outputs": [],
   "source": []
  },
  {
   "cell_type": "code",
   "execution_count": null,
   "metadata": {},
   "outputs": [],
   "source": []
  }
 ],
 "metadata": {
  "kernelspec": {
   "display_name": "Python [conda env:anaconda3-ocr]",
   "language": "python",
   "name": "conda-env-anaconda3-ocr-py"
  },
  "language_info": {
   "codemirror_mode": {
    "name": "ipython",
    "version": 3
   },
   "file_extension": ".py",
   "mimetype": "text/x-python",
   "name": "python",
   "nbconvert_exporter": "python",
   "pygments_lexer": "ipython3",
   "version": "3.7.6"
  }
 },
 "nbformat": 4,
 "nbformat_minor": 2
}
