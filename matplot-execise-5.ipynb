{
 "cells": [
  {
   "cell_type": "code",
   "execution_count": 16,
   "metadata": {},
   "outputs": [
    {
     "data": {
      "image/png": "[encoded data removed]",
      "text/plain": [
       "<Figure size 432x288 with 1 Axes>"
      ]
     },
     "metadata": {
      "needs_background": "light"
     },
     "output_type": "display_data"
    }
   ],
   "source": [
    "import matplotlib.pyplot as plt\n",
    "import datetime as dt\n",
    "import pandas as pd\n",
    "import numpy as np\n",
    "\n",
    "df = pd.DataFrame(columns=('Time', 'Sales'))\n",
    "\n",
    "start_date = dt.datetime(2015, 7, 1)\n",
    "end_date = dt.datetime(2015, 7, 10)\n",
    "daterange = pd.date_range(start_date, end_date)\n",
    "\n",
    "for single_date in daterange:\n",
    "    row = dict(zip(['Time', 'Sales'],\n",
    "                  [single_date, \n",
    "                  int(50*np.random.rand(1))]))\n",
    "    \n",
    "    row_s = pd.Series(row)\n",
    "    row_s.name = single_date.strftime('%b %d')\n",
    "    df = df.append(row_s)\n",
    "    #print(row)\n",
    "\n",
    "#df.loc['Jul 01':'Jul 07', ['Time', 'Sales']].plot()   \n",
    "plt.ylim(0,50)\n",
    "plt.xlabel('Sales Date')\n",
    "plt.ylabel('Sale Value')\n",
    "plt.title('Plotting Time')\n",
    "plt.title('Plotting Time')\n",
    "plt.show()"
   ]
  },
  {
   "cell_type": "code",
   "execution_count": null,
   "metadata": {},
   "outputs": [],
   "source": []
  }
 ],
 "metadata": {
  "kernelspec": {
   "display_name": "Python [conda env:anaconda3-ocr]",
   "language": "python",
   "name": "conda-env-anaconda3-ocr-py"
  },
  "language_info": {
   "codemirror_mode": {
    "name": "ipython",
    "version": 3
   },
   "file_extension": ".py",
   "mimetype": "text/x-python",
   "name": "python",
   "nbconvert_exporter": "python",
   "pygments_lexer": "ipython3",
   "version": "3.7.6"
  }
 },
 "nbformat": 4,
 "nbformat_minor": 2
}
