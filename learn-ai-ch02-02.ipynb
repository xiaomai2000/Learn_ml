{
 "cells": [
  {
   "cell_type": "code",
   "execution_count": 7,
   "metadata": {},
   "outputs": [],
   "source": [
    "import numpy as np\n",
    "import matplotlib.pyplot as plt"
   ]
  },
  {
   "cell_type": "code",
   "execution_count": 18,
   "metadata": {},
   "outputs": [],
   "source": [
    "def draw_fun(X,Y):\n",
    "    x = np.linspace(1.2, 10)\n",
    "    a = x*x\n",
    "    b = np.log(a)\n",
    "    c = np.sqrt(b)\n",
    "    plt.plot(x,c)\n",
    "    \n",
    "    plt.plot(X,Y, 'x')\n",
    "    \n",
    "    d = 1/(x*np.sqrt(np.log(x**2)))\n",
    "    plt.plot(x,d)\n",
    "    plt.show()"
   ]
  },
  {
   "cell_type": "code",
   "execution_count": 19,
   "metadata": {},
   "outputs": [],
   "source": [
    "def forward(x):\n",
    "    a = x*x\n",
    "    b = np.log(a)\n",
    "    c = np.sqrt(b)\n",
    "    return a,b,c\n"
   ]
  },
  {
   "cell_type": "code",
   "execution_count": 20,
   "metadata": {},
   "outputs": [],
   "source": [
    "def backward(x,a,b,c,y):\n",
    "    loss = c - y\n",
    "    delta_c = loss\n",
    "    delta_b = delta_c * 2 * np.sqrt(b)\n",
    "    delta_a = delta_b * a\n",
    "    delta_x = delta_a / 2 / x\n",
    "    return loss, delta_x, delta_a, delta_b, delta_c\n"
   ]
  },
  {
   "cell_type": "code",
   "execution_count": 21,
   "metadata": {},
   "outputs": [],
   "source": [
    "def update(x, delta_x):\n",
    "    x = x - delta_x\n",
    "    if x < 1:\n",
    "        x = 1.1\n",
    "    return x"
   ]
  },
  {
   "cell_type": "code",
   "execution_count": 22,
   "metadata": {},
   "outputs": [
    {
     "name": "stdout",
     "output_type": "stream",
     "text": [
      "how to play: 1) input x, 2) calculate c,3) input target number but not farway from c\n",
      "input x as initial number(1.2, 10), you can try\n",
      "3\n",
      "c=1.482304\n",
      "input y as target number(0.5, 2), you can try 1.8:\n",
      "5\n",
      "forward...\n",
      "x=3.000000, a = 9.000000, b=2.197225, c=1.482304\n",
      "backward...\n",
      "delta_c=-3.517696, delta_b=-10.428589, delta_a=-93.857300, delta_x=-15.642883\n",
      "forward...\n",
      "x=18.642883, a = 347.557101, b=5.850929, c=2.418869\n",
      "backward...\n",
      "delta_c=-2.581131, delta_b=-12.486836, delta_a=-4339.888391, delta_x=-116.395310\n",
      "forward...\n",
      "x=135.038194, a = 18235.313747, b=9.811115, c=3.132270\n",
      "backward...\n",
      "delta_c=-1.867730, delta_b=-11.700469, delta_a=-213361.728889, delta_x=-790.005120\n",
      "forward...\n",
      "x=925.043314, a = 855705.132939, b=13.659681, c=3.695901\n",
      "backward...\n",
      "delta_c=-1.304099, delta_b=-9.639644, delta_a=-8248692.497618, delta_x=-4458.543925\n",
      "forward...\n",
      "x=5383.587240, a = 28983011.565755, b=17.182220, c=4.145144\n",
      "backward...\n",
      "delta_c=-0.854856, delta_b=-7.087001, delta_a=-205402636.200759, delta_x=-19076.744470\n",
      "forward...\n",
      "x=24460.331709, a = 598307827.338011, b=20.209616, c=4.495511\n",
      "backward...\n",
      "delta_c=-0.504489, delta_b=-4.535875, delta_a=-2713849245.724745, delta_x=-55474.498015\n",
      "forward...\n",
      "x=79934.829724, a = 6389577003.071444, b=22.577934, c=4.751624\n",
      "backward...\n",
      "delta_c=-0.248376, delta_b=-2.360376, delta_a=-15081801825.283001, delta_x=-94338.111917\n",
      "forward...\n",
      "x=174272.941642, a = 30371058188.497150, b=24.136756, c=4.912917\n",
      "backward...\n",
      "delta_c=-0.087083, delta_b=-0.855661, delta_a=-25987318995.406441, delta_x=-74559.248127\n",
      "forward...\n",
      "x=248832.189769, a = 61917458665.173744, b=24.849068, c=4.984884\n",
      "backward...\n",
      "delta_c=-0.015116, delta_b=-0.150703, delta_a=-9331176615.039877, delta_x=-18749.938711\n",
      "forward...\n",
      "x=267582.128480, a = 71600195481.884338, b=24.994364, c=4.999436\n",
      "backward...\n",
      "done!\n"
     ]
    },
    {
     "data": {
      "image/png": "[encoded data removed]",
      "text/plain": [
       "<Figure size 432x288 with 1 Axes>"
      ]
     },
     "metadata": {
      "needs_background": "light"
     },
     "output_type": "display_data"
    }
   ],
   "source": [
    "if __name__ == '__main__':\n",
    "    print(\"how to play: 1) input x, 2) calculate c,3) input target number but not farway from c\")\n",
    "    print(\"input x as initial number(1.2, 10), you can try\")\n",
    "    \n",
    "    line = input()\n",
    "    x = float(line)\n",
    "    \n",
    "    a,b,c = forward(x)\n",
    "    print(\"c=%f\" %c)\n",
    "    print(\"input y as target number(0.5, 2), you can try 1.8:\")\n",
    "    line = input()\n",
    "    y = float(line)\n",
    "    \n",
    "    error = 1e-3\n",
    "    \n",
    "    X, Y = [], []\n",
    "    \n",
    "    for i in range(20):\n",
    "        print(\"forward...\")\n",
    "        a,b,c = forward(x)\n",
    "        print(\"x=%f, a = %f, b=%f, c=%f\" %(x,a,b,c))\n",
    "        \n",
    "        X.append(x)\n",
    "        Y.append(c)\n",
    "        \n",
    "        #backward\n",
    "        print(\"backward...\")\n",
    "        loss, delta_x, delta_a, delta_b, delta_c = backward(x,a,b,c,y)\n",
    "        \n",
    "        \n",
    "        if abs(loss) < error:\n",
    "            print(\"done!\")\n",
    "            break\n",
    "        \n",
    "        # update x\n",
    "        x = update(x, delta_x)\n",
    "        print(\"delta_c=%f, delta_b=%f, delta_a=%f, delta_x=%f\" %(delta_c, delta_b, delta_a, delta_x))\n",
    "        \n",
    "    draw_fun(X,Y)\n",
    "        \n",
    "        "
   ]
  },
  {
   "cell_type": "code",
   "execution_count": null,
   "metadata": {},
   "outputs": [],
   "source": []
  }
 ],
 "metadata": {
  "kernelspec": {
   "display_name": "Python 3",
   "language": "python",
   "name": "python3"
  },
  "language_info": {
   "codemirror_mode": {
    "name": "ipython",
    "version": 3
   },
   "file_extension": ".py",
   "mimetype": "text/x-python",
   "name": "python",
   "nbconvert_exporter": "python",
   "pygments_lexer": "ipython3",
   "version": "3.7.0"
  }
 },
 "nbformat": 4,
 "nbformat_minor": 2
}
