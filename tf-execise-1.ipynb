{
 "cells": [
  {
   "cell_type": "code",
   "execution_count": 1,
   "metadata": {},
   "outputs": [],
   "source": [
    "import tensorflow as tf"
   ]
  },
  {
   "cell_type": "code",
   "execution_count": 2,
   "metadata": {},
   "outputs": [],
   "source": [
    "message = tf.constant('Welcome to the existing world f Deep Neural Networks!')"
   ]
  },
  {
   "cell_type": "code",
   "execution_count": 3,
   "metadata": {},
   "outputs": [
    {
     "name": "stdout",
     "output_type": "stream",
     "text": [
      "Welcome to the existing world f Deep Neural Networks!\n"
     ]
    }
   ],
   "source": [
    "with tf.Session() as sess:\n",
    "    print(sess.run(message).decode())"
   ]
  },
  {
   "cell_type": "code",
   "execution_count": 4,
   "metadata": {},
   "outputs": [],
   "source": [
    "sess = tf.InteractiveSession()\n",
    "v_1 = tf.constant([1,2,3,4])\n",
    "v_2 = tf.constant([2,1,5,3])\n",
    "v_add = tf.add(v_1, v_2)\n"
   ]
  },
  {
   "cell_type": "code",
   "execution_count": 5,
   "metadata": {},
   "outputs": [
    {
     "name": "stdout",
     "output_type": "stream",
     "text": [
      "[3 3 8 7]\n"
     ]
    }
   ],
   "source": [
    "print(v_add.eval())"
   ]
  },
  {
   "cell_type": "code",
   "execution_count": 6,
   "metadata": {},
   "outputs": [],
   "source": [
    "sess.close()"
   ]
  },
  {
   "cell_type": "code",
   "execution_count": 7,
   "metadata": {},
   "outputs": [],
   "source": [
    "t_1 = tf.constant(4)\n",
    "t_2 = tf.constant([4,3,2])\n",
    "t_random = tf.random_normal([2,3], mean=2.0, stddev=4, seed=12)"
   ]
  },
  {
   "cell_type": "code",
   "execution_count": 8,
   "metadata": {},
   "outputs": [
    {
     "data": {
      "text/plain": [
       "<tf.Tensor 'random_normal:0' shape=(2, 3) dtype=float32>"
      ]
     },
     "execution_count": 8,
     "metadata": {},
     "output_type": "execute_result"
    }
   ],
   "source": [
    "t_random"
   ]
  },
  {
   "cell_type": "code",
   "execution_count": 9,
   "metadata": {},
   "outputs": [],
   "source": [
    "t_random = tf.truncated_normal([1,5], stddev=2, seed=12)"
   ]
  },
  {
   "cell_type": "code",
   "execution_count": null,
   "metadata": {},
   "outputs": [],
   "source": []
  },
  {
   "cell_type": "code",
   "execution_count": 10,
   "metadata": {},
   "outputs": [
    {
     "name": "stdout",
     "output_type": "stream",
     "text": [
      "[[1. 0. 0. 0. 0.]\n",
      " [0. 1. 0. 0. 0.]\n",
      " [0. 0. 1. 0. 0.]\n",
      " [0. 0. 0. 1. 0.]\n",
      " [0. 0. 0. 0. 1.]]\n"
     ]
    }
   ],
   "source": [
    "sess = tf.InteractiveSession()\n",
    "#Define a 5x5 Identity matrix\n",
    "\n",
    "I_matrix = tf.eye(5)\n",
    "print(I_matrix.eval())"
   ]
  },
  {
   "cell_type": "code",
   "execution_count": 11,
   "metadata": {},
   "outputs": [
    {
     "name": "stdout",
     "output_type": "stream",
     "text": [
      "[[1. 0. 0. 0. 0. 0. 0. 0. 0. 0.]\n",
      " [0. 1. 0. 0. 0. 0. 0. 0. 0. 0.]\n",
      " [0. 0. 1. 0. 0. 0. 0. 0. 0. 0.]\n",
      " [0. 0. 0. 1. 0. 0. 0. 0. 0. 0.]\n",
      " [0. 0. 0. 0. 1. 0. 0. 0. 0. 0.]\n",
      " [0. 0. 0. 0. 0. 1. 0. 0. 0. 0.]\n",
      " [0. 0. 0. 0. 0. 0. 1. 0. 0. 0.]\n",
      " [0. 0. 0. 0. 0. 0. 0. 1. 0. 0.]\n",
      " [0. 0. 0. 0. 0. 0. 0. 0. 1. 0.]\n",
      " [0. 0. 0. 0. 0. 0. 0. 0. 0. 1.]]\n"
     ]
    }
   ],
   "source": [
    "X = tf.Variable(tf.eye(10))\n",
    "X.initializer.run()\n",
    "print(X.eval())"
   ]
  },
  {
   "cell_type": "code",
   "execution_count": 14,
   "metadata": {},
   "outputs": [
    {
     "name": "stdout",
     "output_type": "stream",
     "text": [
      "[[-0.525729   -1.5633048   0.7489659  -1.283794    0.03218996 -0.9629391\n",
      "  -1.1636349   0.5961815   1.1969652   1.3774494 ]\n",
      " [-0.23335148 -0.6498845  -0.11658292  0.23202398  1.2185732   0.48592362\n",
      "   0.23427106 -0.43399215 -0.59318495 -0.44777185]\n",
      " [-0.25994673 -1.0270928  -0.02158686 -1.6712426   0.89542514  0.17528145\n",
      "   0.45552802  0.06737176 -1.1433682   0.59410775]\n",
      " [ 0.90171504 -1.1686602   0.6205999  -0.5491025  -0.92854846 -0.05149506\n",
      "   0.2085381  -1.0828903   0.34127975 -0.5502693 ]\n",
      " [ 0.8547978   1.7632552  -0.6391838   0.03278199 -0.31179222  0.06680597\n",
      "   0.1787957  -0.12890258 -0.5766933   1.6141087 ]]\n"
     ]
    }
   ],
   "source": [
    "A = tf.Variable(tf.random_normal([5,10]))\n",
    "A.initializer.run()\n",
    "print(A.eval())\n"
   ]
  },
  {
   "cell_type": "code",
   "execution_count": 15,
   "metadata": {},
   "outputs": [
    {
     "name": "stdout",
     "output_type": "stream",
     "text": [
      "[[-0.525729   -1.5633048   0.7489659  -1.283794    0.03218996 -0.9629391\n",
      "  -1.1636349   0.5961815   1.1969652   1.3774494 ]\n",
      " [-0.23335148 -0.6498845  -0.11658292  0.23202398  1.2185732   0.48592362\n",
      "   0.23427106 -0.43399215 -0.59318495 -0.44777185]\n",
      " [-0.25994673 -1.0270928  -0.02158686 -1.6712426   0.89542514  0.17528145\n",
      "   0.45552802  0.06737176 -1.1433682   0.59410775]\n",
      " [ 0.90171504 -1.1686602   0.6205999  -0.5491025  -0.92854846 -0.05149506\n",
      "   0.2085381  -1.0828903   0.34127975 -0.5502693 ]\n",
      " [ 0.8547978   1.7632552  -0.6391838   0.03278199 -0.31179222  0.06680597\n",
      "   0.1787957  -0.12890258 -0.5766933   1.6141087 ]]\n"
     ]
    }
   ],
   "source": [
    "# Multiply two matrices\n",
    "product = tf.matmul(A, X)\n",
    "print(product.eval())"
   ]
  },
  {
   "cell_type": "code",
   "execution_count": 16,
   "metadata": {},
   "outputs": [],
   "source": [
    "#\n",
    "#\n"
   ]
  },
  {
   "cell_type": "code",
   "execution_count": 24,
   "metadata": {},
   "outputs": [
    {
     "name": "stdout",
     "output_type": "stream",
     "text": [
      "[[-3.429333    0.5499375   1.8460882  -0.12752831 -0.23299508]\n",
      " [-2.7435646   3.01775    -0.98947436 -0.04431289 -1.2755423 ]\n",
      " [-0.39203596 -1.0892094   4.1074924  -2.967633    2.5527658 ]\n",
      " [ 1.839403    0.569957    1.9062077  -1.5755415   2.1328313 ]] -\n",
      "-\n",
      " [[ 0.3497081   1.8146939   3.1546597   3.3776622  -1.1485372 ]\n",
      " [ 1.2130915   2.0263174   2.8640244  -1.8820466  -4.939141  ]\n",
      " [ 0.35244864  0.70300007  0.00707547  0.39383572  1.6902096 ]\n",
      " [ 0.6197723   1.2657262  -1.8316272  -1.3207386  -1.0917473 ]]\n"
     ]
    }
   ],
   "source": [
    "# Create two random matrices\n",
    "a = tf.Variable(tf.random_normal([4,5], stddev=2))\n",
    "b = tf.Variable(tf.random_normal([4,5], stddev=2))\n",
    "a.initializer.run()\n",
    "b.initializer.run()\n",
    "print(a.eval(), '-\\n-\\n', b.eval())"
   ]
  },
  {
   "cell_type": "code",
   "execution_count": 27,
   "metadata": {},
   "outputs": [],
   "source": [
    "A = a * b\n",
    "B = tf.scalar_mul(2, A)\n",
    "C = tf.div(a,b)\n",
    "D = tf.mod(a,b)"
   ]
  },
  {
   "cell_type": "code",
   "execution_count": 28,
   "metadata": {},
   "outputs": [
    {
     "name": "stdout",
     "output_type": "stream",
     "text": [
      "a\n",
      " [[-4.954532   -1.2449592   2.888166   -3.5919921  -1.9026239 ]\n",
      " [-1.4724357  -1.8787607   2.2793992  -0.34695882  1.3522847 ]\n",
      " [-2.2130003  -0.71623474 -3.8966668  -3.4783466   0.97097915]\n",
      " [ 2.7822685  -0.84124136  1.4930949   5.570876   -0.1353087 ]] \n",
      "b\n",
      " [[ 0.44284907 -0.11315033 -0.40395573 -3.175851    3.6219687 ]\n",
      " [-4.0229316   0.8264399  -3.8547635   1.5784178   0.89475006]\n",
      " [ 2.412165   -1.0281409  -3.0972712   1.095942   -0.9303144 ]\n",
      " [ 3.3206313  -0.6548326   0.48197147 -5.797706    0.52647734]] a*b\n",
      " [[ -2.19411      0.14086755  -1.1666912   11.407632    -6.8912444 ]\n",
      " [  5.923508    -1.5526829   -8.786545    -0.547646     1.2099568 ]\n",
      " [ -5.338122     0.73639023  12.069034    -3.812066    -0.9033159 ]\n",
      " [  9.238888     0.55087227   0.71962917 -32.2983      -0.07123696]] \n",
      "2*a*b\n",
      " [[ -4.38822      0.2817351   -2.3333824   22.815264   -13.782489  ]\n",
      " [ 11.847016    -3.1053658  -17.57309     -1.095292     2.4199135 ]\n",
      " [-10.676244     1.4727805   24.138067    -7.624132    -1.8066318 ]\n",
      " [ 18.477776     1.1017445    1.4392583  -64.5966      -0.14247392]] \n",
      "a/b\n",
      " [[-11.187858    11.002701    -7.149709     1.131033    -0.52530104]\n",
      " [  0.36601064  -2.273318    -0.5913201   -0.21981432   1.5113547 ]\n",
      " [ -0.91743326   0.6966309    1.2580967   -3.1738417   -1.0437107 ]\n",
      " [  0.8378734    1.2846663    3.0978906   -0.9608759   -0.25700763]] \n",
      "a%b\n",
      " [[ 3.5965669e-01 -3.0562282e-04 -3.4347987e-01 -4.1614103e-01\n",
      "   1.7193449e+00]\n",
      " [-1.4724357e+00  6.0055906e-01 -1.5753644e+00  1.2314589e+00\n",
      "   4.5753461e-01]\n",
      " [ 1.9916463e-01 -7.1623474e-01 -7.9939556e-01  9.0542150e-01\n",
      "  -8.8964969e-01]\n",
      " [ 2.7822685e+00 -1.8640876e-01  4.7180504e-02 -2.2683001e-01\n",
      "   3.9116865e-01]]\n"
     ]
    }
   ],
   "source": [
    "init_op = tf.global_variables_initializer()\n",
    "with tf.Session() as sess:\n",
    "    sess.run(init_op)\n",
    "    writer = tf.summary.FileWriter('graphs', sess.graph)\n",
    "    a, b, A_R, B_R, C_R, D_R = sess.run([a, b, A, B, C, D])\n",
    "    print(\"a\\n\", a, \"\\nb\\n\", b,  \"a*b\\n\", A_R, \"\\n2*a*b\\n\", B_R, \"\\na/b\\n\",\n",
    "         C_R, \"\\na%b\\n\", D_R)"
   ]
  },
  {
   "cell_type": "code",
   "execution_count": 29,
   "metadata": {},
   "outputs": [],
   "source": [
    "writer.close()"
   ]
  },
  {
   "cell_type": "code",
   "execution_count": null,
   "metadata": {},
   "outputs": [],
   "source": []
  }
 ],
 "metadata": {
  "kernelspec": {
   "display_name": "Python [conda env:anaconda3-ocr]",
   "language": "python",
   "name": "conda-env-anaconda3-ocr-py"
  },
  "language_info": {
   "codemirror_mode": {
    "name": "ipython",
    "version": 3
   },
   "file_extension": ".py",
   "mimetype": "text/x-python",
   "name": "python",
   "nbconvert_exporter": "python",
   "pygments_lexer": "ipython3",
   "version": "3.7.6"
  }
 },
 "nbformat": 4,
 "nbformat_minor": 2
}
